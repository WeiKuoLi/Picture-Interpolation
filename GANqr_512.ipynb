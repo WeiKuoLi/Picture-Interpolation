{
  "cells": [
    {
      "cell_type": "markdown",
      "metadata": {
        "id": "view-in-github",
        "colab_type": "text"
      },
      "source": [
        "<a href=\"https://colab.research.google.com/github/WeiKuoLi/Picture-Interpolation/blob/main/GANqr_512.ipynb\" target=\"_parent\"><img src=\"https://colab.research.google.com/assets/colab-badge.svg\" alt=\"Open In Colab\"/></a>"
      ]
    },
    {
      "cell_type": "markdown",
      "metadata": {
        "id": "ULWcW6S7Jgk1"
      },
      "source": [
        "Start by taking care of the environment"
      ],
      "id": "ULWcW6S7Jgk1"
    },
    {
      "cell_type": "markdown",
      "metadata": {
        "id": "4930de7c"
      },
      "source": [
        "QR CODE GENERATOR\n"
      ],
      "id": "4930de7c"
    },
    {
      "cell_type": "markdown",
      "metadata": {
        "id": "f6e5661e"
      },
      "source": [
        "try something"
      ],
      "id": "f6e5661e"
    },
    {
      "cell_type": "code",
      "execution_count": 1,
      "metadata": {
        "id": "50b09f14"
      },
      "outputs": [],
      "source": [
        "import numpy as np\n"
      ],
      "id": "50b09f14"
    },
    {
      "cell_type": "code",
      "execution_count": 2,
      "metadata": {
        "id": "1daccc67"
      },
      "outputs": [],
      "source": [
        "import matplotlib.pyplot as plt\n",
        "\n",
        "\n",
        " "
      ],
      "id": "1daccc67"
    },
    {
      "cell_type": "markdown",
      "metadata": {
        "id": "NaqwY-82HqsK"
      },
      "source": [
        "# **Data Preperation: Generate N Set of QR Codes and Decoded Binaries**\n",
        "* Be careful during generating QR code at gen_qr, QR code is resized to 29*29.\n",
        "* Also every thing needs to be float32 numpy array with correct dimensions or pytorch crashes.\n",
        "* pil2array renormalized to 0-1 (originally 0-255)\n",
        "* Change parameters here."
      ],
      "id": "NaqwY-82HqsK"
    },
    {
      "cell_type": "code",
      "execution_count": 3,
      "metadata": {
        "id": "ccf651d0"
      },
      "outputs": [],
      "source": [
        "import random\n",
        "N= 30000\n",
        "box_len_qr = 29\n",
        "bit_array_len = 256\n",
        " "
      ],
      "id": "ccf651d0"
    },
    {
      "cell_type": "markdown",
      "metadata": {
        "id": "Dq0fT_LFIPI6"
      },
      "source": [
        "## Test resized QR code\n",
        "The following try_qr is for testing.\n",
        "The following QR codes are resized & normal QR codes, they look the same."
      ],
      "id": "Dq0fT_LFIPI6"
    },
    {
      "cell_type": "markdown",
      "metadata": {
        "id": "SP7zRu7UJEKJ"
      },
      "source": [
        "# **Start building Deep Neural Network**"
      ],
      "id": "SP7zRu7UJEKJ"
    },
    {
      "cell_type": "code",
      "execution_count": 4,
      "metadata": {
        "id": "a6yJGYZBFSI_"
      },
      "outputs": [],
      "source": [
        "import torch\n",
        "import torch.nn as nn\n",
        "import torch.optim as optim\n",
        "import torch.nn.functional as F\n",
        "from torch.utils.data import Dataset, DataLoader"
      ],
      "id": "a6yJGYZBFSI_"
    },
    {
      "cell_type": "markdown",
      "metadata": {
        "id": "hmw-CD5TKaYF"
      },
      "source": [
        "* Create my own data set from the provided super class Dataset\n",
        "* DataLoader loads data into mini batches of 10% datas\n",
        "* num_workers set to 2 for google colab GPU"
      ],
      "id": "hmw-CD5TKaYF"
    },
    {
      "cell_type": "code",
      "execution_count": 5,
      "metadata": {
        "id": "db181d5c"
      },
      "outputs": [],
      "source": [
        " \n",
        "#define a dataset class\n",
        "class NumpyDataset(Dataset):\n",
        "    def __init__(self, x_data, y_data):\n",
        "        self.x_data = x_data\n",
        "        self.y_data = y_data\n",
        "         \n",
        "    def __getitem__(self, index):\n",
        "        return (torch.from_numpy(self.x_data[index]), torch.from_numpy(self.y_data[index]))\n",
        "    \n",
        "    def __len__ (self):\n",
        "        return len(self.x_data)\n",
        " "
      ],
      "id": "db181d5c"
    },
    {
      "cell_type": "code",
      "source": [
        "ranx=np.where(np.random.rand(N,bit_array_len )<0.5,0.0,1.0).astype('float32')\n",
        "rany=ranx\n",
        "ranx_val=np.where(np.random.rand(int(N/5),bit_array_len )<0.5,0.0,1.0).astype('float32')\n",
        "rany_val=ranx_val\n",
        "print(type(ranx))\n",
        "\n",
        "ran_dataset = NumpyDataset(ranx, rany)\n",
        "ran_val_dataset = NumpyDataset(ranx_val, rany_val)\n",
        "#create a data loader\n",
        "#a mini batch is 10% data\n",
        "ran_loader = DataLoader(ran_dataset, batch_size=int(N/12), shuffle=True, num_workers=2) \n",
        "ran_val_loader = DataLoader(ran_val_dataset, batch_size=int(N/5/12), shuffle=True, num_workers=2)"
      ],
      "metadata": {
        "colab": {
          "base_uri": "https://localhost:8080/"
        },
        "id": "PnbbWZCkS_3B",
        "outputId": "38e32c95-e1e4-47db-ce85-dc9b48b2579e"
      },
      "id": "PnbbWZCkS_3B",
      "execution_count": 6,
      "outputs": [
        {
          "output_type": "stream",
          "name": "stdout",
          "text": [
            "<class 'numpy.ndarray'>\n"
          ]
        }
      ]
    },
    {
      "cell_type": "markdown",
      "metadata": {
        "id": "DUyGCV28K2uJ"
      },
      "source": [
        "Deep neural network for testing. We use this to make sure pytorch runs smooth like butter."
      ],
      "id": "DUyGCV28K2uJ"
    },
    {
      "cell_type": "code",
      "execution_count": 7,
      "metadata": {
        "id": "0e7881e9"
      },
      "outputs": [],
      "source": [
        "class NN(nn.Module):\n",
        "    def __init__(self, input_size, output_size):\n",
        "        super(NN,self).__init__()\n",
        "        self.dim = 1\n",
        "        self.fc1 = nn.Linear(input_size,80)\n",
        "        self.fc2 = nn.Linear(80,output_size)\n",
        "        \n",
        "    def forward(self,x):\n",
        "       # print(x.shape)\n",
        "        x = self.fc1(x)\n",
        "        \n",
        "      #  print(x.shape)\n",
        "        x = F.relu(x) \n",
        "        x = self.fc2(x)\n",
        "        \n",
        "       # print(x.shape)\n",
        "        x= torch.sigmoid(x)\n",
        "        return x"
      ],
      "id": "0e7881e9"
    },
    {
      "cell_type": "code",
      "execution_count": 8,
      "metadata": {
        "id": "dfd896e9"
      },
      "outputs": [],
      "source": [
        "import math\n"
      ],
      "id": "dfd896e9"
    },
    {
      "cell_type": "markdown",
      "metadata": {
        "id": "_-3b9f-YLCLR"
      },
      "source": [
        "## **Convolutional Neural Network**\n",
        "* a. input layer (batch,1,29,29)\n",
        "* b. 1 layer of cnn\n",
        "* c. follow by flattening & a linear layer\n",
        "* d. output layer\n",
        "-------------------------------------------------------------------\n",
        "* ReLU is used for nonlinear activation in between linear layers.\n",
        "* sigmoid is for nonlinear activation right before output."
      ],
      "id": "_-3b9f-YLCLR"
    },
    {
      "cell_type": "code",
      "execution_count": 9,
      "metadata": {
        "id": "12dddc35"
      },
      "outputs": [],
      "source": [
        " \n",
        "class CNN(nn.Module):\n",
        "    def __init__(self, input_size, output_size):\n",
        "        super(CNN,self).__init__()\n",
        "        self.dim = 2\n",
        "        self.fc1 = nn.Conv2d(1,80,5,stride=2,padding=2)\n",
        " \n",
        "        self.fc2 = nn.Conv2d(80,8,5,stride=2,padding=2)\n",
        "        self.fl1 = nn.Flatten()\n",
        "\n",
        "        self.fc3 = nn.Linear(512,output_size)\n",
        "        \n",
        "        # Use batch normalization to improve model performance\n",
        "        self.batch_norm = nn.BatchNorm2d(8)\n",
        "        \n",
        "        # Use weight regularization to reduce overfitting\n",
        "        self.dropout = nn.Dropout(0.5)\n",
        "        \n",
        "    def forward(self,x):\n",
        "         \n",
        "       # print(x.shape)\n",
        "        x = self.fc1(x)\n",
        "        \n",
        "      #  print(x.shape)\n",
        "        x = F.relu(x)\n",
        " \n",
        "        x = self.fc2(x)\n",
        "        x = F.relu(x)\n",
        "        \n",
        "        # Use batch normalization and dropout to improve model performance\n",
        "        x = self.batch_norm(x)\n",
        "        x = self.dropout(x)\n",
        "        \n",
        "        x = self.fl1(x)\n",
        "       # x= self.d(x)\n",
        "        #print(x.shape)\n",
        "        x = self.fc3(x)    \n",
        "        x= torch.sigmoid(x)\n",
        "        return x\n"
      ],
      "id": "12dddc35"
    },
    {
      "cell_type": "code",
      "source": [
        "class DECODER(nn.Module):\n",
        "    def __init__(self, input_size, output_size):\n",
        "        super(DECODER,self).__init__()\n",
        "        self.dim = 2\n",
        "        self.fc1 = nn.Conv2d(1,80,5,stride=2,padding=2)\n",
        "        self.fc2 = nn.Conv2d(80,8,5,stride=2,padding=2)\n",
        "        self.fc3 = nn.Linear(512,output_size)\n",
        "\n",
        "        # flattening to 1D\n",
        "        self.fl1 = nn.Flatten() \n",
        "        \n",
        "        # Use batch normalization to improve model performance\n",
        "        self.batch_norm = nn.BatchNorm2d(8)\n",
        "        \n",
        "        # Use weight regularization to reduce overfitting\n",
        "        self.dropout = nn.Dropout(0.5)\n",
        "        \n",
        "    def forward(self,x):\n",
        "        #print(\"DECODING\")\n",
        "        x = self.fc1(x) \n",
        "        x = F.relu(x)\n",
        " \n",
        "        x = self.fc2(x)\n",
        "        x = F.relu(x)\n",
        "        \n",
        "        # Use batch normalization and dropout to improve model performance\n",
        "        x = self.batch_norm(x)\n",
        "        x = self.dropout(x)\n",
        "        \n",
        "        x = self.fl1(x) \n",
        "        x = self.fc3(x)    \n",
        "        x= torch.sigmoid(x)\n",
        "        return x\n"
      ],
      "metadata": {
        "id": "rTvr-LTA5MRX"
      },
      "id": "rTvr-LTA5MRX",
      "execution_count": 10,
      "outputs": []
    },
    {
      "cell_type": "code",
      "source": [
        "class ENCODER(nn.Module):\n",
        "    def __init__(self, input_size, output_size):  \n",
        "        super(ENCODER,self).__init__()\n",
        "        self.dim = 2\n",
        "        self.fc0 = nn.Linear(input_size,4*output_size*output_size)\n",
        "        self.fc1 = nn.Conv2d(1,8,5,stride=2,padding=2)\n",
        "        self.fc2 = nn.Conv2d(8,1,1)#,stride=2,padding=2)\n",
        "        \n",
        "        # flattening to 1D\n",
        "        self.ufl1 = nn.Unflatten(1, (1,2*output_size, 2*output_size))\n",
        "        \n",
        "        # Use batch normalization to improve model performance\n",
        "        self.batch_norm = nn.BatchNorm2d(8)\n",
        "        \n",
        "        # Use weight regularization to reduce overfitting\n",
        "        self.dropout = nn.Dropout(0.5)\n",
        "        \n",
        "    def forward(self,x):\n",
        "        #print(x.shape)\n",
        "        x = self.fc0(x)\n",
        "        #print(x.shape)\n",
        "        x = self.ufl1(x) \n",
        "        #print(x.shape)\n",
        "\n",
        "        x = self.fc1(x) \n",
        "        x = F.relu(x)\n",
        "        #print(x.shape)\n",
        "        # Use batch normalization and dropout to improve model performance\n",
        "        x = self.batch_norm(x)\n",
        "        x = self.dropout(x)\n",
        " \n",
        "        x = self.fc2(x)\n",
        "        x= torch.sigmoid(x)\n",
        "        #print(x.shape)\n",
        "        return x\n"
      ],
      "metadata": {
        "id": "kx2-o_Ax5gOP"
      },
      "id": "kx2-o_Ax5gOP",
      "execution_count": 11,
      "outputs": []
    },
    {
      "cell_type": "code",
      "source": [
        "class GAN(nn.Module):\n",
        "    def __init__(self, ENCODER, DECODER):\n",
        "        super(GAN, self).__init__()\n",
        "        self.ENCODER = ENCODER\n",
        "        self.DECODER = DECODER\n",
        "        \n",
        "    def forward(self, x):\n",
        "        # Generate fake data\n",
        "        gan_qr  = self.ENCODER(x)\n",
        "        \n",
        "        # Classify the fake data using the discriminator\n",
        "        code = self.DECODER(gan_qr)\n",
        "        \n",
        "        return code"
      ],
      "metadata": {
        "id": "0-fO-AzN70YS"
      },
      "id": "0-fO-AzN70YS",
      "execution_count": 12,
      "outputs": []
    },
    {
      "cell_type": "markdown",
      "metadata": {
        "id": "pUZsv17_L6qQ"
      },
      "source": [
        "For gpu, not sure if AMD Radeon is usable. Here we use nvidia GPU."
      ],
      "id": "pUZsv17_L6qQ"
    },
    {
      "cell_type": "code",
      "execution_count": 13,
      "metadata": {
        "colab": {
          "base_uri": "https://localhost:8080/"
        },
        "id": "e78adf72",
        "outputId": "a3f74e7e-bd41-48e1-95dd-1946d6e59867"
      },
      "outputs": [
        {
          "output_type": "execute_result",
          "data": {
            "text/plain": [
              "device(type='cuda')"
            ]
          },
          "metadata": {},
          "execution_count": 13
        }
      ],
      "source": [
        "device = torch.device('cuda' if torch.cuda.is_available() else 'cpu')\n",
        "device"
      ],
      "id": "e78adf72"
    },
    {
      "cell_type": "code",
      "execution_count": 14,
      "metadata": {
        "id": "f5363d91",
        "colab": {
          "base_uri": "https://localhost:8080/"
        },
        "outputId": "0d350a96-140c-4fc4-9c40-dea834831507"
      },
      "outputs": [
        {
          "output_type": "stream",
          "name": "stdout",
          "text": [
            "29 256\n"
          ]
        }
      ],
      "source": [
        "print(box_len_qr, bit_array_len)\n",
        "model_en=ENCODER(input_size=bit_array_len,output_size=box_len_qr).to(device)\n",
        "model_de=DECODER(input_size=box_len_qr,output_size=bit_array_len).to(device)\n",
        "model_gan=GAN(ENCODER=model_en,DECODER=model_de).to(device)\n",
        "\n",
        "#model=CNN(input_size=box_len_qr*box_len_qr,output_size=bit_array_len ).to(device)"
      ],
      "id": "f5363d91"
    },
    {
      "cell_type": "code",
      "execution_count": 22,
      "metadata": {
        "id": "941e55b9"
      },
      "outputs": [],
      "source": [
        "learn_rate=0.00005 #0.0005 ~ 0.00001\n",
        "num_epochs = 100"
      ],
      "id": "941e55b9"
    },
    {
      "cell_type": "code",
      "execution_count": 23,
      "metadata": {
        "id": "29816a81"
      },
      "outputs": [],
      "source": [
        "criterion = nn.BCELoss()\n",
        "#criterion = nn.CrossEntropyLoss()\n",
        "optimizer = optim.Adam(model_gan.parameters(),lr=learn_rate,weight_decay=0.005)\n",
        "\n",
        "#scheduler = optim.lr_scheduler.ExponentialLR(optimizer, gamma=0.9)"
      ],
      "id": "29816a81"
    },
    {
      "cell_type": "markdown",
      "metadata": {
        "id": "ghMRQ7CgMF_U"
      },
      "source": [
        "##Training starts here."
      ],
      "id": "ghMRQ7CgMF_U"
    },
    {
      "cell_type": "markdown",
      "metadata": {
        "id": "socHeiTMMlEc"
      },
      "source": [
        "* Input data requires reshaping, since only one channel shape is (batch,1,29,29)\n",
        "* Function data.to(device=device) can only happen after reshaping because gpu is distributed system.\n",
        "* The tensor scores is a 2d tensor shaped (batch,24), same as targets\n",
        "* MSE loss needs to be less than 0.01 for okay results "
      ],
      "id": "socHeiTMMlEc"
    },
    {
      "cell_type": "code",
      "execution_count": 24,
      "metadata": {
        "colab": {
          "base_uri": "https://localhost:8080/"
        },
        "id": "0cda6185",
        "outputId": "e3c78edb-b799-4fb4-83f7-b8f925c1afa1"
      },
      "outputs": [
        {
          "output_type": "stream",
          "name": "stdout",
          "text": [
            "epoch  0 / 100  loss =  0.6021183133125305 val_loss =  0.5894160866737366\n",
            "epoch  1 / 100  loss =  0.5746530294418335 val_loss =  0.5619893074035645\n",
            "epoch  2 / 100  loss =  0.5457795858383179 val_loss =  0.5326912999153137\n",
            "epoch  3 / 100  loss =  0.5157105326652527 val_loss =  0.5031963586807251\n",
            "epoch  4 / 100  loss =  0.48582613468170166 val_loss =  0.4741705060005188\n",
            "epoch  5 / 100  loss =  0.4567384719848633 val_loss =  0.4460396468639374\n",
            "epoch  6 / 100  loss =  0.42851611971855164 val_loss =  0.4186774492263794\n",
            "epoch  7 / 100  loss =  0.40126320719718933 val_loss =  0.3924301862716675\n",
            "epoch  8 / 100  loss =  0.375221848487854 val_loss =  0.3673291802406311\n",
            "epoch  9 / 100  loss =  0.3504273295402527 val_loss =  0.34344416856765747\n",
            "epoch  10 / 100  loss =  0.3268115818500519 val_loss =  0.32067760825157166\n",
            "epoch  11 / 100  loss =  0.3043869137763977 val_loss =  0.2990872263908386\n",
            "epoch  12 / 100  loss =  0.28332969546318054 val_loss =  0.27888810634613037\n",
            "epoch  13 / 100  loss =  0.2636577785015106 val_loss =  0.26006531715393066\n",
            "epoch  14 / 100  loss =  0.24529056251049042 val_loss =  0.24245302379131317\n",
            "epoch  15 / 100  loss =  0.22813425958156586 val_loss =  0.22598010301589966\n",
            "epoch  16 / 100  loss =  0.21217384934425354 val_loss =  0.21060582995414734\n",
            "epoch  17 / 100  loss =  0.19738051295280457 val_loss =  0.1964164674282074\n",
            "epoch  18 / 100  loss =  0.1836729645729065 val_loss =  0.18336215615272522\n",
            "epoch  19 / 100  loss =  0.17113932967185974 val_loss =  0.17121294140815735\n",
            "epoch  20 / 100  loss =  0.15954723954200745 val_loss =  0.16009990870952606\n",
            "epoch  21 / 100  loss =  0.14887896180152893 val_loss =  0.14995747804641724\n",
            "epoch  22 / 100  loss =  0.1391122192144394 val_loss =  0.14041930437088013\n",
            "epoch  23 / 100  loss =  0.1300639808177948 val_loss =  0.13166514039039612\n",
            "epoch  24 / 100  loss =  0.12178061902523041 val_loss =  0.12352132052183151\n",
            "epoch  25 / 100  loss =  0.11398497223854065 val_loss =  0.11597220599651337\n",
            "epoch  26 / 100  loss =  0.10678599774837494 val_loss =  0.10904955118894577\n",
            "epoch  27 / 100  loss =  0.10019459575414658 val_loss =  0.10269083827733994\n",
            "epoch  28 / 100  loss =  0.09410808980464935 val_loss =  0.09669239819049835\n",
            "epoch  29 / 100  loss =  0.08850717544555664 val_loss =  0.09118327498435974\n",
            "epoch  30 / 100  loss =  0.08333854377269745 val_loss =  0.08614736050367355\n",
            "epoch  31 / 100  loss =  0.07851260155439377 val_loss =  0.08145912736654282\n",
            "epoch  32 / 100  loss =  0.07409042119979858 val_loss =  0.07693830132484436\n",
            "epoch  33 / 100  loss =  0.069843590259552 val_loss =  0.07282546907663345\n",
            "epoch  34 / 100  loss =  0.06596105545759201 val_loss =  0.06889308989048004\n",
            "epoch  35 / 100  loss =  0.06228403374552727 val_loss =  0.06529185175895691\n",
            "epoch  36 / 100  loss =  0.058872148394584656 val_loss =  0.06192084401845932\n",
            "epoch  37 / 100  loss =  0.055719323456287384 val_loss =  0.05878109484910965\n",
            "epoch  38 / 100  loss =  0.0528060644865036 val_loss =  0.05586901307106018\n",
            "epoch  39 / 100  loss =  0.05006249248981476 val_loss =  0.05317100137472153\n",
            "epoch  40 / 100  loss =  0.04757266864180565 val_loss =  0.050661809742450714\n",
            "epoch  41 / 100  loss =  0.04527474567294121 val_loss =  0.048351895064115524\n",
            "epoch  42 / 100  loss =  0.043177079409360886 val_loss =  0.04629681631922722\n",
            "epoch  43 / 100  loss =  0.04127635806798935 val_loss =  0.04434972628951073\n",
            "epoch  44 / 100  loss =  0.039488524198532104 val_loss =  0.04255185276269913\n",
            "epoch  45 / 100  loss =  0.03783002123236656 val_loss =  0.04086155444383621\n",
            "epoch  46 / 100  loss =  0.03626534342765808 val_loss =  0.03923296928405762\n",
            "epoch  47 / 100  loss =  0.03481648489832878 val_loss =  0.03776625543832779\n",
            "epoch  48 / 100  loss =  0.0334954634308815 val_loss =  0.03639255836606026\n",
            "epoch  49 / 100  loss =  0.03224670886993408 val_loss =  0.035131294280290604\n",
            "epoch  50 / 100  loss =  0.03110296092927456 val_loss =  0.03401903808116913\n",
            "epoch  51 / 100  loss =  0.03003193996846676 val_loss =  0.03279944509267807\n",
            "epoch  52 / 100  loss =  0.028976231813430786 val_loss =  0.03172583878040314\n",
            "epoch  53 / 100  loss =  0.02802051603794098 val_loss =  0.030747635290026665\n",
            "epoch  54 / 100  loss =  0.027136703953146935 val_loss =  0.029834246262907982\n",
            "epoch  55 / 100  loss =  0.026314085349440575 val_loss =  0.028945747762918472\n",
            "epoch  56 / 100  loss =  0.0255169328302145 val_loss =  0.028131138533353806\n",
            "epoch  57 / 100  loss =  0.024751683697104454 val_loss =  0.027310771867632866\n",
            "epoch  58 / 100  loss =  0.024049488827586174 val_loss =  0.026570260524749756\n",
            "epoch  59 / 100  loss =  0.023370902985334396 val_loss =  0.025856850668787956\n",
            "epoch  60 / 100  loss =  0.022739937528967857 val_loss =  0.025194114074110985\n",
            "epoch  61 / 100  loss =  0.022152654826641083 val_loss =  0.024561941623687744\n",
            "epoch  62 / 100  loss =  0.02159108966588974 val_loss =  0.02392270788550377\n",
            "epoch  63 / 100  loss =  0.02105233445763588 val_loss =  0.023387527093291283\n",
            "epoch  64 / 100  loss =  0.020547011867165565 val_loss =  0.022804876789450645\n",
            "epoch  65 / 100  loss =  0.02005143091082573 val_loss =  0.02231365442276001\n",
            "epoch  66 / 100  loss =  0.019596125930547714 val_loss =  0.021815840154886246\n",
            "epoch  67 / 100  loss =  0.019166938960552216 val_loss =  0.021337589249014854\n",
            "epoch  68 / 100  loss =  0.01876380667090416 val_loss =  0.020871084183454514\n",
            "epoch  69 / 100  loss =  0.018362494185566902 val_loss =  0.020469307899475098\n",
            "epoch  70 / 100  loss =  0.017992570996284485 val_loss =  0.020064910873770714\n",
            "epoch  71 / 100  loss =  0.01763203553855419 val_loss =  0.019667938351631165\n",
            "epoch  72 / 100  loss =  0.017295487225055695 val_loss =  0.01929396204650402\n",
            "epoch  73 / 100  loss =  0.016990642994642258 val_loss =  0.01896296627819538\n",
            "epoch  74 / 100  loss =  0.0166952982544899 val_loss =  0.01866096258163452\n",
            "epoch  75 / 100  loss =  0.016396619379520416 val_loss =  0.018318966031074524\n",
            "epoch  76 / 100  loss =  0.0161074660718441 val_loss =  0.017979897558689117\n",
            "epoch  77 / 100  loss =  0.01583610102534294 val_loss =  0.017696941271424294\n",
            "epoch  78 / 100  loss =  0.01557750441133976 val_loss =  0.017401309683918953\n",
            "epoch  79 / 100  loss =  0.015329833142459393 val_loss =  0.01715943031013012\n",
            "epoch  80 / 100  loss =  0.015114838257431984 val_loss =  0.016896748915314674\n",
            "epoch  81 / 100  loss =  0.014888469129800797 val_loss =  0.01663801819086075\n",
            "epoch  82 / 100  loss =  0.014668158255517483 val_loss =  0.016415247693657875\n",
            "epoch  83 / 100  loss =  0.014480456709861755 val_loss =  0.016233237460255623\n",
            "epoch  84 / 100  loss =  0.01430710032582283 val_loss =  0.01596856117248535\n",
            "epoch  85 / 100  loss =  0.014106906950473785 val_loss =  0.015784643590450287\n",
            "epoch  86 / 100  loss =  0.013916021212935448 val_loss =  0.015550977550446987\n",
            "epoch  87 / 100  loss =  0.013736462220549583 val_loss =  0.015360020101070404\n",
            "epoch  88 / 100  loss =  0.013569864444434643 val_loss =  0.015182297676801682\n",
            "epoch  89 / 100  loss =  0.013419795781373978 val_loss =  0.014988492242991924\n",
            "epoch  90 / 100  loss =  0.013265850022435188 val_loss =  0.01480354368686676\n",
            "epoch  91 / 100  loss =  0.013110066764056683 val_loss =  0.014658587984740734\n",
            "epoch  92 / 100  loss =  0.012974303215742111 val_loss =  0.01451511587947607\n",
            "epoch  93 / 100  loss =  0.012841708026826382 val_loss =  0.014351296238601208\n",
            "epoch  94 / 100  loss =  0.012716866098344326 val_loss =  0.01422886922955513\n",
            "epoch  95 / 100  loss =  0.012592012993991375 val_loss =  0.014070871286094189\n",
            "epoch  96 / 100  loss =  0.012466511689126492 val_loss =  0.013904365710914135\n",
            "epoch  97 / 100  loss =  0.01232956349849701 val_loss =  0.013766366988420486\n",
            "epoch  98 / 100  loss =  0.01222754642367363 val_loss =  0.01366814598441124\n",
            "epoch  99 / 100  loss =  0.01211794838309288 val_loss =  0.013535506092011929\n"
          ]
        }
      ],
      "source": [
        "for epoch in range(num_epochs):\n",
        "    # Accumulate the losses for all the batches in the epoch\n",
        "    train_losses = []\n",
        "    val_losses = []\n",
        "    for batch_idx, (data,targets) in enumerate(ran_loader):\n",
        " \n",
        "        data = data.to(device=device)\n",
        "        targets = targets.to(device=device)\n",
        "        scores = model_gan(data)\n",
        "        loss = criterion(scores, targets)\n",
        "        \n",
        "        # Accumulate the loss for the batch\n",
        "        train_losses.append(loss.mean())\n",
        "        \n",
        "        optimizer.zero_grad()\n",
        "        loss.backward()\n",
        "        \n",
        "        optimizer.step()\n",
        "\n",
        "    # Compute the average loss for the training data\n",
        "    avg_train_loss = sum(train_losses) / len(train_losses)\n",
        "\n",
        "    # Compute the loss for the validation data\n",
        "    with torch.no_grad():\n",
        "        for batch_idx, (data,targets) in enumerate(ran_val_loader):\n",
        " \n",
        "            data = data.to(device=device)\n",
        "            targets = targets.to(device=device)\n",
        "            scores = model_gan(data)\n",
        "            loss = criterion(scores, targets)\n",
        "\n",
        "            # Accumulate the loss for the batch\n",
        "            val_losses.append(loss.mean())\n",
        "\n",
        "    # Compute the average loss for the validation data\n",
        "    avg_val_loss = sum(val_losses) / len(val_losses)\n",
        "    print(\"epoch \",epoch,\"/\",num_epochs,\" loss = \", float(avg_train_loss), \"val_loss = \", float(avg_val_loss))\n"
      ],
      "id": "0cda6185"
    },
    {
      "cell_type": "markdown",
      "metadata": {
        "id": "uDAOzL7kNpu7"
      },
      "source": [
        "* The function check_acc is for calculating correct rate.\n",
        "* Gradient calculation is turned off because it is not needed.\n",
        "* Reshape x for cnn, than copy to gpu.\n",
        "* calculate num_correct for each mini batch\n",
        "* Calculate ACC for final averaged score."
      ],
      "id": "uDAOzL7kNpu7"
    },
    {
      "cell_type": "code",
      "execution_count": 25,
      "metadata": {
        "id": "69d8df2d"
      },
      "outputs": [],
      "source": [
        "def acc(scores, y):\n",
        "    tmp=torch.le(scores,0.5)   # true if lesser than 0.5 element wise   \n",
        "    tmp2=(tmp==1-y.to(torch.int32))\n",
        " \n",
        "    #print ((scores[0]*1).to(torch.float32),y[0])\n",
        "    #print (torch.all(tmp,dim=1)) \n",
        "    return  (torch.all(tmp2,dim=1))\n",
        "    \n",
        "def check_acc(loader, model):\n",
        "    num_correct = 0\n",
        "    num_samples = 0\n",
        "    model.eval()\n",
        "    \n",
        "    with torch.no_grad():\n",
        "        for x, y in loader:\n",
        "            \n",
        "            x = x.to(device=device)\n",
        "            y = y.to(device=device)\n",
        "           # print(x.shape)\n",
        "            scores = model(x) \n",
        "          #  print(scores.shape)\n",
        "            num_samples += x.shape[0]\n",
        "            num_correct += (acc(scores,y)).sum()\n",
        "            print(x.shape[0],(acc(scores,y)).sum())\n",
        "        print(\"ACC = \", int(float(num_correct)/float(num_samples)*100),\" %\")"
      ],
      "id": "69d8df2d"
    },
    {
      "cell_type": "code",
      "execution_count": 19,
      "metadata": {
        "id": "f24bc867",
        "colab": {
          "base_uri": "https://localhost:8080/"
        },
        "outputId": "3d87da44-30e5-4e7f-b6dd-b7b46def2431"
      },
      "outputs": [
        {
          "output_type": "execute_result",
          "data": {
            "text/plain": [
              "tensor([True, True, True, True])"
            ]
          },
          "metadata": {},
          "execution_count": 19
        }
      ],
      "source": [
        "a = torch.rand(4, 2).bool()\n",
        "torch.all(a, dim=1)\n",
        "    "
      ],
      "id": "f24bc867"
    },
    {
      "cell_type": "code",
      "execution_count": 26,
      "metadata": {
        "id": "20c0f27c",
        "colab": {
          "base_uri": "https://localhost:8080/"
        },
        "outputId": "b476fc3e-112b-49c9-b8ef-e1c15faedb0c"
      },
      "outputs": [
        {
          "output_type": "stream",
          "name": "stdout",
          "text": [
            "TRAIN\n",
            "2500 tensor(2487, device='cuda:0')\n",
            "2500 tensor(2481, device='cuda:0')\n",
            "2500 tensor(2487, device='cuda:0')\n",
            "2500 tensor(2489, device='cuda:0')\n",
            "2500 tensor(2486, device='cuda:0')\n",
            "2500 tensor(2484, device='cuda:0')\n",
            "2500 tensor(2487, device='cuda:0')\n",
            "2500 tensor(2486, device='cuda:0')\n",
            "2500 tensor(2490, device='cuda:0')\n",
            "2500 tensor(2476, device='cuda:0')\n",
            "2500 tensor(2493, device='cuda:0')\n",
            "2500 tensor(2485, device='cuda:0')\n",
            "ACC =  99  %\n",
            "VAL\n",
            "500 tensor(477, device='cuda:0')\n",
            "500 tensor(478, device='cuda:0')\n",
            "500 tensor(468, device='cuda:0')\n",
            "500 tensor(475, device='cuda:0')\n",
            "500 tensor(475, device='cuda:0')\n",
            "500 tensor(483, device='cuda:0')\n",
            "500 tensor(480, device='cuda:0')\n",
            "500 tensor(482, device='cuda:0')\n",
            "500 tensor(480, device='cuda:0')\n",
            "500 tensor(478, device='cuda:0')\n",
            "500 tensor(481, device='cuda:0')\n",
            "500 tensor(483, device='cuda:0')\n",
            "ACC =  95  %\n"
          ]
        }
      ],
      "source": [
        "print(\"TRAIN\")\n",
        "check_acc(ran_loader, model_gan)\n",
        "\n",
        " \n",
        "\n",
        "print(\"VAL\")\n",
        "check_acc(ran_val_loader, model_gan)"
      ],
      "id": "20c0f27c"
    },
    {
      "cell_type": "markdown",
      "source": [
        "## **Show GAN result**"
      ],
      "metadata": {
        "id": "TtkTVml3gjzM"
      },
      "id": "TtkTVml3gjzM"
    },
    {
      "cell_type": "code",
      "source": [
        "def draw_gan(loader, model):\n",
        "    num_correct = 0\n",
        "    num_samples = 0\n",
        "    model.eval()\n",
        "    pic=[]\n",
        "    with torch.no_grad():\n",
        "        for x, y in loader:\n",
        "            \n",
        "            x = x.to(device=device)\n",
        "            y = y.to(device=device)\n",
        "           # print(x.shape)\n",
        "            scores = model(x) \n",
        "            #plt.imshow(scores[0].cpu().reshape(29,29),cmap='gray')\n",
        "            print(scores.shape)\n",
        "            if(np.random.random()<.6):\n",
        "                pic.append(np.array(scores[0].cpu().reshape(29,29)))\n",
        "    return pic\n",
        "\n",
        "def show_images(images) -> None:\n",
        "    n: int = len(images)\n",
        "    f = plt.figure()\n",
        "    plt.subplots_adjust(wspace=None, hspace=None)\n",
        "    plt.axis('off')\n",
        "    for i in range(n):\n",
        "        # Debug, plot figure\n",
        "        f.add_subplot(2, n/2+1, i + 1)\n",
        "        fig=plt.imshow(images[i],cmap='PuRd')\n",
        "        plt.axis('off')\n",
        "        fig.axes.get_xaxis().set_visible(False)\n",
        "        fig.axes.get_yaxis().set_visible(False)\n",
        "\n",
        "    plt.show(block=True)             \n",
        "\n",
        "\n",
        "show_images((draw_gan(ran_val_loader,model_en)))   "
      ],
      "metadata": {
        "colab": {
          "base_uri": "https://localhost:8080/",
          "height": 464
        },
        "id": "dSGDEmZVgpew",
        "outputId": "08a8db91-b206-4747-8c7b-8849116ae2e4"
      },
      "id": "dSGDEmZVgpew",
      "execution_count": 21,
      "outputs": [
        {
          "output_type": "stream",
          "name": "stdout",
          "text": [
            "torch.Size([500, 1, 29, 29])\n",
            "torch.Size([500, 1, 29, 29])\n",
            "torch.Size([500, 1, 29, 29])\n",
            "torch.Size([500, 1, 29, 29])\n",
            "torch.Size([500, 1, 29, 29])\n",
            "torch.Size([500, 1, 29, 29])\n",
            "torch.Size([500, 1, 29, 29])\n",
            "torch.Size([500, 1, 29, 29])\n",
            "torch.Size([500, 1, 29, 29])\n",
            "torch.Size([500, 1, 29, 29])\n",
            "torch.Size([500, 1, 29, 29])\n",
            "torch.Size([500, 1, 29, 29])\n"
          ]
        },
        {
          "output_type": "display_data",
          "data": {
            "text/plain": [
              "<Figure size 432x288 with 11 Axes>"
            ],
            "image/png": "[encoded data removed]"
          },
          "metadata": {
            "needs_background": "light"
          }
        }
      ]
    },
    {
      "cell_type": "markdown",
      "metadata": {
        "id": "d5eF0lbRtFbM"
      },
      "source": [
        "# **Conclusion**\n",
        "* data size matters, N~20000 gives okay results\n",
        "* keep the model simple\n",
        "* input space scales as $2^{dim^2}$, output space scales as $2^{dim}$\n",
        "* Neural network is a really bad choice of algorithm. Because there is a exponentionally growing of class number(since we treat this as a classifying task)\n",
        "\n",
        " \n"
      ],
      "id": "d5eF0lbRtFbM"
    },
    {
      "cell_type": "markdown",
      "metadata": {
        "id": "EXmc2HkHDbdy"
      },
      "source": [
        "# **TODO**\n",
        "* Mixing of traditional decoder algorithm may be fun.\n",
        "* Or maybe just give up this project."
      ],
      "id": "EXmc2HkHDbdy"
    }
  ],
  "metadata": {
    "accelerator": "GPU",
    "colab": {
      "provenance": [],
      "include_colab_link": true
    },
    "gpuClass": "premium",
    "kernelspec": {
      "display_name": "Python 3 (ipykernel)",
      "language": "python",
      "name": "python3"
    },
    "language_info": {
      "codemirror_mode": {
        "name": "ipython",
        "version": 3
      },
      "file_extension": ".py",
      "mimetype": "text/x-python",
      "name": "python",
      "nbconvert_exporter": "python",
      "pygments_lexer": "ipython3",
      "version": "3.8.10"
    }
  },
  "nbformat": 4,
  "nbformat_minor": 5
}